{
 "cells": [
  {
   "cell_type": "code",
   "execution_count": 2,
   "metadata": {},
   "outputs": [],
   "source": [
    "import psycopg2\n",
    "import pandas as pd\n",
    "import datetime\n",
    "import cuemath_db as cuedb\n",
    "from pymongo import MongoClient\n",
    "from learnosity_sdk.request import DataApi\n",
    "import config_update_script as cnfg"
   ]
  },
  {
   "cell_type": "code",
   "execution_count": null,
   "metadata": {},
   "outputs": [],
   "source": []
  },
  {
   "cell_type": "code",
   "execution_count": 4,
   "metadata": {},
   "outputs": [],
   "source": [
    "conn = psycopg2.connect(database='concepts', user='dbadmin', password='jZ1$9Sh24x3u', host='intelread.ckhhr136b02o.ap-southeast-1.rds.amazonaws.com', port='5432')"
   ]
  },
  {
   "cell_type": "code",
   "execution_count": 13,
   "metadata": {},
   "outputs": [
    {
     "data": {
      "text/plain": [
       "0"
      ]
     },
     "execution_count": 13,
     "metadata": {},
     "output_type": "execute_result"
    }
   ],
   "source": [
    "#conn = cuedb.get_cuemath_intel_connection()\n",
    "cur = conn.cursor()\n",
    "#cols = [\"id\", \"created_on\", \"updated_on\", \"code\", \"learnosity_activity_ref\", \"total_questions\", \"meta_data\"]\n",
    "sql_query = \"SELECT COUNT(id) FROM student_worksheet WHERE worksheet_id=%s AND student_id=%s AND completed_on IS NOT NULL\"\n",
    "cur.execute(sql_query, [\"4068b1ec-c545-11e8-9a33-c4b301c785cf\", \"fc491b36-f6e1-11e8-a967-02420a000012\"])\n",
    "val = list(*cur.fetchall())\n",
    "#return(df)\n",
    "val[0]"
   ]
  },
  {
   "cell_type": "code",
   "execution_count": 230,
   "metadata": {
    "scrolled": true
   },
   "outputs": [
    {
     "data": {
      "text/plain": [
       "156"
      ]
     },
     "execution_count": 230,
     "metadata": {},
     "output_type": "execute_result"
    }
   ],
   "source": [
    "len(set(df['learnosity_activity_ref']))"
   ]
  },
  {
   "cell_type": "code",
   "execution_count": 15,
   "metadata": {},
   "outputs": [],
   "source": [
    "data_request_activity = {\n",
    "\t\"sort\": \"asc\",\n",
    "    \"sort_field\": \"updated\",\n",
    "\t\"mintime\": \"2018-08-07\",\n",
    "\t\"include\":{\n",
    "\t\t\"activities\":[\"dt_created\", \"dt_updated\", \"last_updated_by\",\"activity_id\"]\n",
    "\t},\n",
    "    \"references\": ['algebraic-identities.w01']\n",
    "}"
   ]
  },
  {
   "cell_type": "code",
   "execution_count": 134,
   "metadata": {},
   "outputs": [],
   "source": [
    "client_mongo = MongoClient(cuedb.db_asli_intel['host'])\n",
    "inteldb = client_mongo[cuedb.db_asli_intel['db_name']]\n",
    "activity_collection = inteldb['Activities']\n",
    "activity_existing = activity_collection.find({'activity_reference':'dhdhdh'})\n"
   ]
  },
  {
   "cell_type": "code",
   "execution_count": 232,
   "metadata": {},
   "outputs": [],
   "source": [
    "def pull_tag_data():\n",
    "\tendpoint_tags='https://data.learnosity.com/v1/itembank/tagging/tags'\n",
    "\tres = client.results_iter(cnfg.endpoint_tags, cnfg.security, cnfg.consumer_secret, {'types':['Chapter', 'Sub-Concept', 'Item Difficulty', 'Item Objective', 'Item Type', 'Author']}, cnfg.action)\n",
    "\ttag_dict = {}\n",
    "\tfor tag in res:\n",
    "\t\ttry:\n",
    "\t\t\ttag_dict[tag['type']].append(tag['name'])\n",
    "\t\texcept KeyError:\n",
    "\t\t\ttag_dict[tag['type']] = [tag['name']]\n",
    "\treturn(tag_dict)"
   ]
  },
  {
   "cell_type": "code",
   "execution_count": 233,
   "metadata": {},
   "outputs": [
    {
     "data": {
      "text/plain": [
       "{'Sub-Concept': ['cubes-and-roots-properties',\n",
       "  'squares-and-roots-properties',\n",
       "  'operations',\n",
       "  'prisms-cylinders',\n",
       "  'cubes-cuboids',\n",
       "  'algebra-introduction',\n",
       "  'compound-interest',\n",
       "  'compounding',\n",
       "  'perimeter-area-recap',\n",
       "  'simple-interest',\n",
       "  'discount-tax-introduction',\n",
       "  'profit-loss-advanced',\n",
       "  'profit-loss-introduction',\n",
       "  'linear-equations-2v-introduction',\n",
       "  'successive-percentages',\n",
       "  'percentages-change-basics',\n",
       "  'percentages-of-quantities',\n",
       "  'percentages-conversion',\n",
       "  'percentages-basics',\n",
       "  'time-and-work',\n",
       "  'perfect-cubes',\n",
       "  'finding-cube-roots',\n",
       "  'cubes-and-roots-introduction',\n",
       "  'perfect-squares',\n",
       "  'direct-inverse',\n",
       "  'finding-square-roots',\n",
       "  'squares-and-roots-introduction',\n",
       "  'inverse-variation',\n",
       "  'direct-variation',\n",
       "  'ap-introduction',\n",
       "  'exponents-standard-form',\n",
       "  'herons-formula',\n",
       "  'exponents-laws',\n",
       "  'binomial-square',\n",
       "  'exponents-introduction',\n",
       "  'speed-distance-time',\n",
       "  'binomial-cube',\n",
       "  'con-tri',\n",
       "  'ratio-div',\n",
       "  'tri-sqr',\n",
       "  'prod-bin',\n",
       "  'asp',\n",
       "  'diff-sqr',\n",
       "  'ratio-equiv',\n",
       "  'ratio-intro',\n",
       "  'iden-intro',\n",
       "  'ap-sum',\n",
       "  'ap-nthterm',\n",
       "  'la-partra',\n",
       "  'la-intro'],\n",
       " 'Item Objective': ['division',\n",
       "  'multiplication',\n",
       "  'addition-subtraction',\n",
       "  'prisms-cylinders-volume',\n",
       "  'prisms-cylinders-surface-area',\n",
       "  'cubes-cuboids-volume',\n",
       "  'cubes-cuboids-surface-area',\n",
       "  'expressions',\n",
       "  'variables',\n",
       "  'ci-advanced',\n",
       "  'ci-introduction',\n",
       "  'growth-decline',\n",
       "  'engage',\n",
       "  'herons-formula-quadrilaterals',\n",
       "  'linear-equations-2v-graphs',\n",
       "  'si-advanced',\n",
       "  'si-introduction',\n",
       "  'tax',\n",
       "  'discount',\n",
       "  'profit-loss-percentage',\n",
       "  'profit-loss-definition',\n",
       "  'linear-equations-2v-solution',\n",
       "  'linear-equations-2v-formation',\n",
       "  'linear-equations-2v-definition',\n",
       "  'cube-roots-estimation',\n",
       "  'cubes-roots-properties-misc',\n",
       "  'cubes-roots-number-of-digits',\n",
       "  'cubes-roots-zeros',\n",
       "  'cubes-roots-parity',\n",
       "  'cubes-roots-ones-digits',\n",
       "  'cubes-and-roots-inequalities',\n",
       "  'squares-and-roots-inequalities',\n",
       "  'percentages-change',\n",
       "  'squares-roots-pythagoras',\n",
       "  'squares-roots-odd-numbers',\n",
       "  'squares-roots-properties-misc',\n",
       "  'squares-roots-five',\n",
       "  'squares-roots-number-of-digits',\n",
       "  'squares-roots-zeros',\n",
       "  'squares-roots-parity',\n",
       "  'squares-roots-ones-digits',\n",
       "  'percentages-introduction',\n",
       "  'square-roots-approximation',\n",
       "  'square-roots-long-division',\n",
       "  'exponents-definition',\n",
       "  'time-and-work-single',\n",
       "  'time-and-work-introduction',\n",
       "  'convert-to-perfect-cube',\n",
       "  'identify-perfect-cubes',\n",
       "  'cube-roots-factorization',\n",
       "  'cubes-and-roots-definition',\n",
       "  'convert-to-perfect-square',\n",
       "  'identify-perfect-squares',\n",
       "  'square-roots-factorization',\n",
       "  'squares-and-roots-definition',\n",
       "  'convert-to-binomial-square',\n",
       "  'expand-binomial-cube',\n",
       "  'expand-binomial-square',\n",
       "  'standard-form-operations',\n",
       "  'standard-form-comparison',\n",
       "  'standard-form-definition',\n",
       "  'herons-formula-introduction',\n",
       "  'exponents-equations',\n",
       "  'exponents-power-of-product',\n",
       "  'exponents-negative-power',\n",
       "  'exponents-zero-power',\n",
       "  'exponents-quotient-law',\n",
       "  'exponents-power-of-power',\n",
       "  'exponents-product-law',\n",
       "  'compare-exponents',\n",
       "  'express-numbers-as-exponents',\n",
       "  'find-cubes-using-identities',\n",
       "  'apply-binomial-cube',\n",
       "  'convert-to-binomial-cube'],\n",
       " 'Item Difficulty': ['Advanced', 'Applied', 'Direct'],\n",
       " 'Chapter': ['mensuration',\n",
       "  'algebra',\n",
       "  'perimeter-area',\n",
       "  'quadratic-equations',\n",
       "  'commercial-math',\n",
       "  'linear-equations-2v',\n",
       "  'percentages',\n",
       "  'cubes-and-roots',\n",
       "  'squares-and-roots',\n",
       "  'variation',\n",
       "  'exponents',\n",
       "  'lines-and-angles',\n",
       "  'ratio-and-proportion',\n",
       "  'triangles',\n",
       "  'arithmetic-progression',\n",
       "  'algebraic-identities'],\n",
       " 'Author': ['Richa',\n",
       "  'Joyita',\n",
       "  'Sonal',\n",
       "  'Chandan Kumar KM',\n",
       "  'Chandrika',\n",
       "  'Rohit',\n",
       "  'Danish',\n",
       "  'Balajothi',\n",
       "  'Madhav',\n",
       "  'Shubhi',\n",
       "  'Priyadarshini',\n",
       "  'Naveed',\n",
       "  'Bhandage',\n",
       "  'Manan',\n",
       "  'Himanshu',\n",
       "  'Deepak',\n",
       "  'Ranjani',\n",
       "  'Kshama',\n",
       "  'Nemat',\n",
       "  'Shafique',\n",
       "  'Vaibhav',\n",
       "  'Santosh'],\n",
       " 'Item Type': ['Problem', 'Example', 'Concept']}"
      ]
     },
     "execution_count": 233,
     "metadata": {},
     "output_type": "execute_result"
    }
   ],
   "source": [
    "pull_tag_data()"
   ]
  },
  {
   "cell_type": "code",
   "execution_count": 31,
   "metadata": {},
   "outputs": [
    {
     "name": "stdout",
     "output_type": "stream",
     "text": [
      "{'reference': 'Mean Median Mode - 019', 'title': None, 'workflow': None, 'metadata': {'acknowledgements': None, 'scoring_type': 'per-question'}, 'note': None, 'source': None, 'definition': {'widgets': [{'reference': '556af94a-64ac-4265-9434-05e77b00c9d5'}, {'reference': '15d062d4-9349-4ab8-8e6d-441cca83a4ef'}], 'template': 'dynamic'}, 'description': '', 'status': 'unpublished', 'dt_created': '2018-12-19 12:26:41', 'dt_updated': '2018-12-19 12:54:32', 'last_updated_by': {'id': 'nadeesh.garg@cuemath.com', 'first_name': 'Nadeesh', 'surname': 'Garg', 'email': None}, 'questions': [{'reference': '556af94a-64ac-4265-9434-05e77b00c9d5', 'type': 'clozeformula'}, {'reference': '15d062d4-9349-4ab8-8e6d-441cca83a4ef', 'type': 'clozeformula'}], 'features': [], 'tags': {'Author': ['Nemat']}}\n"
     ]
    }
   ],
   "source": [
    "security = {\n",
    "    'consumer_key': 'ds8NJIkkTdWZkYZq',\n",
    "    'domain': 'localhost'\n",
    "}\n",
    "# WARNING: The consumer secret should not be committed to source control.\n",
    "consumer_secret = 'WvsYiUZIr2irK8Qx0YLJr54KjbtT9TJfPCD7gnQX'\n",
    "action='get'\n",
    "endpoint_items = 'https://data.learnosity.com/v1/itembank/items'\n",
    "endpoint_activities = 'https://data.learnosity.com/v1/itembank/activities'\n",
    "data_request_items = {\n",
    "\t\t\t\"sort\": \"asc\",\n",
    "            \"references\": [\"Mean Median Mode - 019\"],\n",
    "\t\t\t\"sort_field\":\"updated\",\n",
    "\t\t\t\"mintime\": '2018-12-14 20:07:20.866553',\n",
    "\t\t\t\"include\":{\n",
    "\t\t\t\t\"items\":[\"dt_created\", \"dt_updated\", \"last_updated_by\"]\n",
    "\t\t\t\t},\n",
    "\t\t\t\"status\":[\"unpublished\"]\n",
    "\t\t}\n",
    "client = DataApi()\n",
    "res = client.results_iter(endpoint_items, security, consumer_secret, data_request_items, action)\n",
    "item_list = dict()\n",
    "parsed_item={}\n",
    "for idx, item in enumerate(res):\n",
    "    #parsed_item.update(item)\n",
    "    #del parsed_item['questions']\n",
    "    print(item)"
   ]
  },
  {
   "cell_type": "code",
   "execution_count": 30,
   "metadata": {},
   "outputs": [
    {
     "name": "stdout",
     "output_type": "stream",
     "text": [
      "2018-12-19 20:07:20.866553 2018-12-19 20:07:20.866553\n"
     ]
    }
   ],
   "source": [
    "import datetime\n",
    "\n",
    "timestring = str(datetime.datetime.now())\n",
    "\n",
    "timeobj = datetime.datetime.strptime(timestring, \"%Y-%m-%d %H:%M:%S.%f\")\n",
    "print(timestring, timeobj)"
   ]
  },
  {
   "cell_type": "code",
   "execution_count": null,
   "metadata": {},
   "outputs": [],
   "source": []
  },
  {
   "cell_type": "code",
   "execution_count": null,
   "metadata": {},
   "outputs": [],
   "source": []
  },
  {
   "cell_type": "code",
   "execution_count": 208,
   "metadata": {},
   "outputs": [
    {
     "name": "stdout",
     "output_type": "stream",
     "text": [
      "None\n"
     ]
    }
   ],
   "source": [
    "client = MongoClient()\n",
    "db = client['test']\n",
    "a = db.collection.find_one({'_id':'ac'})\n",
    "print(a)"
   ]
  },
  {
   "cell_type": "code",
   "execution_count": 290,
   "metadata": {
    "scrolled": false
   },
   "outputs": [
    {
     "name": "stdout",
     "output_type": "stream",
     "text": [
      "COLUMNS:  Index(['worksheet_id', 'worksheet_name', 'worksheet_type', 'worksheet_code',\n",
      "       'worksheet_description', 'worksheet_learnosity_activity_ref',\n",
      "       'worksheet_target_accuracy', 'worksheet_is_active',\n",
      "       'worksheet_total_questions', 'block_content_position',\n",
      "       'block_version_version', 'block_version_is_live', 'block_name',\n",
      "       'block_code', 'block_is_active', 'chapter_content_content_type',\n",
      "       'chapter_content_position', 'chapter_version_version',\n",
      "       'chapter_version_is_live', 'chapter_name', 'chapter_code',\n",
      "       'chapter_is_default', 'chapter_is_active', 'chapter_position',\n",
      "       'program_name', 'program_code', 'program_grade', 'program_is_active'],\n",
      "      dtype='object')\n"
     ]
    }
   ],
   "source": [
    "conn = psycopg2.connect(database='concepts', user='dbadmin', password='jZ1$9Sh24x3u', host='intelread.ckhhr136b02o.ap-southeast-1.rds.amazonaws.com', port='5432')\n",
    "def get_db_schema_homework():\t\t\t\n",
    "\t#Note that Assessments follow a different schema: Chapters have their assessments.\n",
    "\t# Get full chapter>block>worksheet breakdown of database\n",
    "\t#1) Get all worksheets\n",
    "\t#2) Get all blocks associated with each worksheet\n",
    "\t#3) Get all chapters associated with each block\n",
    "\t#4) Get all programs associated with each chapter\n",
    "\t#conn = cuedb.get_cuemath_intel_connection()\n",
    "\tcur = conn.cursor()\n",
    "\tworksheet_cols = [\"id\", \"name\", \"type\", \"code\", \"description\", \"learnosity_activity_ref\", \"target_accuracy\", \"is_active\", \"total_questions\"]\n",
    "\tblock_content_cols = [\"position\"]\n",
    "\tblock_version_cols = [\"version\", \"is_live\"]\n",
    "\tblock_cols = [\"name\", \"code\", \"is_active\"]\n",
    "\tchapter_content_cols = [\"content_type\", \"position\"]\n",
    "\tchapter_version_cols = [\"version\", \"is_live\"]\n",
    "\tchapter_cols = [\"name\", \"code\", \"is_default\", \"is_active\", \"position\"]\n",
    "\tprogram_cols = [\"name\", \"code\", \"grade\", \"is_active\"]\n",
    "\n",
    "\tsql_query_hw = \"SELECT \" + \", \".join([\"worksheet.\"+ w for w in worksheet_cols]) \\\n",
    "\t\t\t\t+ \", \" + \", \".join([\"block_content.\" + b for b in block_content_cols]) \\\n",
    "\t\t\t\t+ \", \" + \", \".join([\"block_version.\" + b for b in block_version_cols]) \\\n",
    "\t\t\t\t+ \", \" + \", \".join([\"block.\" + b for b in block_cols]) \\\n",
    "\t\t\t\t+ \", \" + \", \".join([\"chapter_content.\" + b for b in chapter_content_cols]) \\\n",
    "\t\t\t\t+ \", \" + \", \".join([\"chapter_version.\" + b for b in chapter_version_cols]) \\\n",
    "\t\t\t\t+ \", \" + \", \".join([\"chapter.\" + b for b in chapter_cols]) \\\n",
    "\t\t\t\t+ \", \" + \", \".join([\"program.\" + b for b in program_cols]) \\\n",
    "\t\t\t\t+ \" FROM worksheet left join block_content on (worksheet.id = block_content.worksheet_id)\" \\\n",
    "\t\t\t\t+ \" INNER JOIN block_version on (block_content.block_version_id = block_version.id)\" \\\n",
    "\t\t\t\t+ \" INNER JOIN block on (block_version.block_id = block.id)\" \\\n",
    "\t\t\t\t+ \" INNER JOIN chapter_content on (block.id = chapter_content.content_id)\"  \\\n",
    "\t\t\t\t+ \" INNER JOIN chapter_version on (chapter_content.chapter_version_id = chapter_version.id) \" \\\n",
    "\t\t\t\t+ \" INNER JOIN chapter on (chapter_version.chapter_id = chapter.id) \" \\\n",
    "\t\t\t\t+ \" INNER JOIN program on (chapter.program_id = program.id)\" \\\n",
    "\t\t\t\t+ \" where worksheet.is_active = TRUE and chapter_content.content_type='BLOCK' and block.is_active=TRUE and block_version.is_live=TRUE; \"\n",
    "\t\t\t\t\n",
    "\tcur.execute(sql_query_hw)\n",
    "\tdf = pd.DataFrame(cur.fetchall() , columns = ( [\"worksheet_\"+ w for w in worksheet_cols] \\\n",
    "                                               +[\"block_content_\" + b for b in block_content_cols] \\\n",
    "                                               +[\"block_version_\" + b for b in block_version_cols] \\\n",
    "                                               +[\"block_\" + b for b in block_cols] \\\n",
    "                                               +[\"chapter_content_\" + b for b in chapter_content_cols]\n",
    "                                               +[\"chapter_version_\" + b for b in chapter_version_cols]\\\n",
    "                                               +[\"chapter_\" + b for b in chapter_cols]\n",
    "                                               +[\"program_\" + b for b in program_cols]))\n",
    "\n",
    "\tprint(\"COLUMNS: \", df.columns)\n",
    "\tcur.close()\n",
    "\tconn.close()\n",
    "\treturn(df)\n",
    "df = get_db_schema_homework()"
   ]
  },
  {
   "cell_type": "code",
   "execution_count": 36,
   "metadata": {},
   "outputs": [
    {
     "ename": "KeyError",
     "evalue": "'chapter_code'",
     "output_type": "error",
     "traceback": [
      "\u001b[0;31m---------------------------------------------------------------------------\u001b[0m",
      "\u001b[0;31mKeyError\u001b[0m                                  Traceback (most recent call last)",
      "\u001b[0;32m~/.virtualenvs/data_viewer/lib/python3.7/site-packages/pandas/core/indexes/base.py\u001b[0m in \u001b[0;36mget_loc\u001b[0;34m(self, key, method, tolerance)\u001b[0m\n\u001b[1;32m   3077\u001b[0m             \u001b[0;32mtry\u001b[0m\u001b[0;34m:\u001b[0m\u001b[0;34m\u001b[0m\u001b[0;34m\u001b[0m\u001b[0m\n\u001b[0;32m-> 3078\u001b[0;31m                 \u001b[0;32mreturn\u001b[0m \u001b[0mself\u001b[0m\u001b[0;34m.\u001b[0m\u001b[0m_engine\u001b[0m\u001b[0;34m.\u001b[0m\u001b[0mget_loc\u001b[0m\u001b[0;34m(\u001b[0m\u001b[0mkey\u001b[0m\u001b[0;34m)\u001b[0m\u001b[0;34m\u001b[0m\u001b[0;34m\u001b[0m\u001b[0m\n\u001b[0m\u001b[1;32m   3079\u001b[0m             \u001b[0;32mexcept\u001b[0m \u001b[0mKeyError\u001b[0m\u001b[0;34m:\u001b[0m\u001b[0;34m\u001b[0m\u001b[0;34m\u001b[0m\u001b[0m\n",
      "\u001b[0;32mpandas/_libs/index.pyx\u001b[0m in \u001b[0;36mpandas._libs.index.IndexEngine.get_loc\u001b[0;34m()\u001b[0m\n",
      "\u001b[0;32mpandas/_libs/index.pyx\u001b[0m in \u001b[0;36mpandas._libs.index.IndexEngine.get_loc\u001b[0;34m()\u001b[0m\n",
      "\u001b[0;32mpandas/_libs/hashtable_class_helper.pxi\u001b[0m in \u001b[0;36mpandas._libs.hashtable.PyObjectHashTable.get_item\u001b[0;34m()\u001b[0m\n",
      "\u001b[0;32mpandas/_libs/hashtable_class_helper.pxi\u001b[0m in \u001b[0;36mpandas._libs.hashtable.PyObjectHashTable.get_item\u001b[0;34m()\u001b[0m\n",
      "\u001b[0;31mKeyError\u001b[0m: 'chapter_code'",
      "\nDuring handling of the above exception, another exception occurred:\n",
      "\u001b[0;31mKeyError\u001b[0m                                  Traceback (most recent call last)",
      "\u001b[0;32m<ipython-input-36-106c91690dea>\u001b[0m in \u001b[0;36m<module>\u001b[0;34m\u001b[0m\n\u001b[1;32m      1\u001b[0m \u001b[0mdf_test\u001b[0m \u001b[0;34m=\u001b[0m \u001b[0mpd\u001b[0m\u001b[0;34m.\u001b[0m\u001b[0mread_csv\u001b[0m\u001b[0;34m(\u001b[0m\u001b[0;34m'./full_data_schema.csv'\u001b[0m\u001b[0;34m)\u001b[0m\u001b[0;34m\u001b[0m\u001b[0;34m\u001b[0m\u001b[0m\n\u001b[1;32m      2\u001b[0m \u001b[0mdf_t\u001b[0m \u001b[0;34m=\u001b[0m \u001b[0mdf_test\u001b[0m\u001b[0;34m.\u001b[0m\u001b[0mgroupby\u001b[0m\u001b[0;34m(\u001b[0m\u001b[0;34m[\u001b[0m\u001b[0;34m'chapter_code'\u001b[0m\u001b[0;34m,\u001b[0m \u001b[0;34m'block_code'\u001b[0m\u001b[0;34m]\u001b[0m\u001b[0;34m)\u001b[0m\u001b[0;34m.\u001b[0m\u001b[0magg\u001b[0m\u001b[0;34m(\u001b[0m\u001b[0;34m{\u001b[0m\u001b[0;34m'worksheet_target_accuracy'\u001b[0m\u001b[0;34m:\u001b[0m\u001b[0;34m'mean'\u001b[0m\u001b[0;34m}\u001b[0m\u001b[0;34m)\u001b[0m\u001b[0;34m\u001b[0m\u001b[0;34m\u001b[0m\u001b[0m\n\u001b[0;32m----> 3\u001b[0;31m \u001b[0mdf_t\u001b[0m\u001b[0;34m[\u001b[0m\u001b[0;34m'chapter_code'\u001b[0m\u001b[0;34m]\u001b[0m\u001b[0;34m\u001b[0m\u001b[0;34m\u001b[0m\u001b[0m\n\u001b[0m",
      "\u001b[0;32m~/.virtualenvs/data_viewer/lib/python3.7/site-packages/pandas/core/frame.py\u001b[0m in \u001b[0;36m__getitem__\u001b[0;34m(self, key)\u001b[0m\n\u001b[1;32m   2686\u001b[0m             \u001b[0;32mreturn\u001b[0m \u001b[0mself\u001b[0m\u001b[0;34m.\u001b[0m\u001b[0m_getitem_multilevel\u001b[0m\u001b[0;34m(\u001b[0m\u001b[0mkey\u001b[0m\u001b[0;34m)\u001b[0m\u001b[0;34m\u001b[0m\u001b[0;34m\u001b[0m\u001b[0m\n\u001b[1;32m   2687\u001b[0m         \u001b[0;32melse\u001b[0m\u001b[0;34m:\u001b[0m\u001b[0;34m\u001b[0m\u001b[0;34m\u001b[0m\u001b[0m\n\u001b[0;32m-> 2688\u001b[0;31m             \u001b[0;32mreturn\u001b[0m \u001b[0mself\u001b[0m\u001b[0;34m.\u001b[0m\u001b[0m_getitem_column\u001b[0m\u001b[0;34m(\u001b[0m\u001b[0mkey\u001b[0m\u001b[0;34m)\u001b[0m\u001b[0;34m\u001b[0m\u001b[0;34m\u001b[0m\u001b[0m\n\u001b[0m\u001b[1;32m   2689\u001b[0m \u001b[0;34m\u001b[0m\u001b[0m\n\u001b[1;32m   2690\u001b[0m     \u001b[0;32mdef\u001b[0m \u001b[0m_getitem_column\u001b[0m\u001b[0;34m(\u001b[0m\u001b[0mself\u001b[0m\u001b[0;34m,\u001b[0m \u001b[0mkey\u001b[0m\u001b[0;34m)\u001b[0m\u001b[0;34m:\u001b[0m\u001b[0;34m\u001b[0m\u001b[0;34m\u001b[0m\u001b[0m\n",
      "\u001b[0;32m~/.virtualenvs/data_viewer/lib/python3.7/site-packages/pandas/core/frame.py\u001b[0m in \u001b[0;36m_getitem_column\u001b[0;34m(self, key)\u001b[0m\n\u001b[1;32m   2693\u001b[0m         \u001b[0;31m# get column\u001b[0m\u001b[0;34m\u001b[0m\u001b[0;34m\u001b[0m\u001b[0;34m\u001b[0m\u001b[0m\n\u001b[1;32m   2694\u001b[0m         \u001b[0;32mif\u001b[0m \u001b[0mself\u001b[0m\u001b[0;34m.\u001b[0m\u001b[0mcolumns\u001b[0m\u001b[0;34m.\u001b[0m\u001b[0mis_unique\u001b[0m\u001b[0;34m:\u001b[0m\u001b[0;34m\u001b[0m\u001b[0;34m\u001b[0m\u001b[0m\n\u001b[0;32m-> 2695\u001b[0;31m             \u001b[0;32mreturn\u001b[0m \u001b[0mself\u001b[0m\u001b[0;34m.\u001b[0m\u001b[0m_get_item_cache\u001b[0m\u001b[0;34m(\u001b[0m\u001b[0mkey\u001b[0m\u001b[0;34m)\u001b[0m\u001b[0;34m\u001b[0m\u001b[0;34m\u001b[0m\u001b[0m\n\u001b[0m\u001b[1;32m   2696\u001b[0m \u001b[0;34m\u001b[0m\u001b[0m\n\u001b[1;32m   2697\u001b[0m         \u001b[0;31m# duplicate columns & possible reduce dimensionality\u001b[0m\u001b[0;34m\u001b[0m\u001b[0;34m\u001b[0m\u001b[0;34m\u001b[0m\u001b[0m\n",
      "\u001b[0;32m~/.virtualenvs/data_viewer/lib/python3.7/site-packages/pandas/core/generic.py\u001b[0m in \u001b[0;36m_get_item_cache\u001b[0;34m(self, item)\u001b[0m\n\u001b[1;32m   2487\u001b[0m         \u001b[0mres\u001b[0m \u001b[0;34m=\u001b[0m \u001b[0mcache\u001b[0m\u001b[0;34m.\u001b[0m\u001b[0mget\u001b[0m\u001b[0;34m(\u001b[0m\u001b[0mitem\u001b[0m\u001b[0;34m)\u001b[0m\u001b[0;34m\u001b[0m\u001b[0;34m\u001b[0m\u001b[0m\n\u001b[1;32m   2488\u001b[0m         \u001b[0;32mif\u001b[0m \u001b[0mres\u001b[0m \u001b[0;32mis\u001b[0m \u001b[0;32mNone\u001b[0m\u001b[0;34m:\u001b[0m\u001b[0;34m\u001b[0m\u001b[0;34m\u001b[0m\u001b[0m\n\u001b[0;32m-> 2489\u001b[0;31m             \u001b[0mvalues\u001b[0m \u001b[0;34m=\u001b[0m \u001b[0mself\u001b[0m\u001b[0;34m.\u001b[0m\u001b[0m_data\u001b[0m\u001b[0;34m.\u001b[0m\u001b[0mget\u001b[0m\u001b[0;34m(\u001b[0m\u001b[0mitem\u001b[0m\u001b[0;34m)\u001b[0m\u001b[0;34m\u001b[0m\u001b[0;34m\u001b[0m\u001b[0m\n\u001b[0m\u001b[1;32m   2490\u001b[0m             \u001b[0mres\u001b[0m \u001b[0;34m=\u001b[0m \u001b[0mself\u001b[0m\u001b[0;34m.\u001b[0m\u001b[0m_box_item_values\u001b[0m\u001b[0;34m(\u001b[0m\u001b[0mitem\u001b[0m\u001b[0;34m,\u001b[0m \u001b[0mvalues\u001b[0m\u001b[0;34m)\u001b[0m\u001b[0;34m\u001b[0m\u001b[0;34m\u001b[0m\u001b[0m\n\u001b[1;32m   2491\u001b[0m             \u001b[0mcache\u001b[0m\u001b[0;34m[\u001b[0m\u001b[0mitem\u001b[0m\u001b[0;34m]\u001b[0m \u001b[0;34m=\u001b[0m \u001b[0mres\u001b[0m\u001b[0;34m\u001b[0m\u001b[0;34m\u001b[0m\u001b[0m\n",
      "\u001b[0;32m~/.virtualenvs/data_viewer/lib/python3.7/site-packages/pandas/core/internals.py\u001b[0m in \u001b[0;36mget\u001b[0;34m(self, item, fastpath)\u001b[0m\n\u001b[1;32m   4113\u001b[0m \u001b[0;34m\u001b[0m\u001b[0m\n\u001b[1;32m   4114\u001b[0m             \u001b[0;32mif\u001b[0m \u001b[0;32mnot\u001b[0m \u001b[0misna\u001b[0m\u001b[0;34m(\u001b[0m\u001b[0mitem\u001b[0m\u001b[0;34m)\u001b[0m\u001b[0;34m:\u001b[0m\u001b[0;34m\u001b[0m\u001b[0;34m\u001b[0m\u001b[0m\n\u001b[0;32m-> 4115\u001b[0;31m                 \u001b[0mloc\u001b[0m \u001b[0;34m=\u001b[0m \u001b[0mself\u001b[0m\u001b[0;34m.\u001b[0m\u001b[0mitems\u001b[0m\u001b[0;34m.\u001b[0m\u001b[0mget_loc\u001b[0m\u001b[0;34m(\u001b[0m\u001b[0mitem\u001b[0m\u001b[0;34m)\u001b[0m\u001b[0;34m\u001b[0m\u001b[0;34m\u001b[0m\u001b[0m\n\u001b[0m\u001b[1;32m   4116\u001b[0m             \u001b[0;32melse\u001b[0m\u001b[0;34m:\u001b[0m\u001b[0;34m\u001b[0m\u001b[0;34m\u001b[0m\u001b[0m\n\u001b[1;32m   4117\u001b[0m                 \u001b[0mindexer\u001b[0m \u001b[0;34m=\u001b[0m \u001b[0mnp\u001b[0m\u001b[0;34m.\u001b[0m\u001b[0marange\u001b[0m\u001b[0;34m(\u001b[0m\u001b[0mlen\u001b[0m\u001b[0;34m(\u001b[0m\u001b[0mself\u001b[0m\u001b[0;34m.\u001b[0m\u001b[0mitems\u001b[0m\u001b[0;34m)\u001b[0m\u001b[0;34m)\u001b[0m\u001b[0;34m[\u001b[0m\u001b[0misna\u001b[0m\u001b[0;34m(\u001b[0m\u001b[0mself\u001b[0m\u001b[0;34m.\u001b[0m\u001b[0mitems\u001b[0m\u001b[0;34m)\u001b[0m\u001b[0;34m]\u001b[0m\u001b[0;34m\u001b[0m\u001b[0;34m\u001b[0m\u001b[0m\n",
      "\u001b[0;32m~/.virtualenvs/data_viewer/lib/python3.7/site-packages/pandas/core/indexes/base.py\u001b[0m in \u001b[0;36mget_loc\u001b[0;34m(self, key, method, tolerance)\u001b[0m\n\u001b[1;32m   3078\u001b[0m                 \u001b[0;32mreturn\u001b[0m \u001b[0mself\u001b[0m\u001b[0;34m.\u001b[0m\u001b[0m_engine\u001b[0m\u001b[0;34m.\u001b[0m\u001b[0mget_loc\u001b[0m\u001b[0;34m(\u001b[0m\u001b[0mkey\u001b[0m\u001b[0;34m)\u001b[0m\u001b[0;34m\u001b[0m\u001b[0;34m\u001b[0m\u001b[0m\n\u001b[1;32m   3079\u001b[0m             \u001b[0;32mexcept\u001b[0m \u001b[0mKeyError\u001b[0m\u001b[0;34m:\u001b[0m\u001b[0;34m\u001b[0m\u001b[0;34m\u001b[0m\u001b[0m\n\u001b[0;32m-> 3080\u001b[0;31m                 \u001b[0;32mreturn\u001b[0m \u001b[0mself\u001b[0m\u001b[0;34m.\u001b[0m\u001b[0m_engine\u001b[0m\u001b[0;34m.\u001b[0m\u001b[0mget_loc\u001b[0m\u001b[0;34m(\u001b[0m\u001b[0mself\u001b[0m\u001b[0;34m.\u001b[0m\u001b[0m_maybe_cast_indexer\u001b[0m\u001b[0;34m(\u001b[0m\u001b[0mkey\u001b[0m\u001b[0;34m)\u001b[0m\u001b[0;34m)\u001b[0m\u001b[0;34m\u001b[0m\u001b[0;34m\u001b[0m\u001b[0m\n\u001b[0m\u001b[1;32m   3081\u001b[0m \u001b[0;34m\u001b[0m\u001b[0m\n\u001b[1;32m   3082\u001b[0m         \u001b[0mindexer\u001b[0m \u001b[0;34m=\u001b[0m \u001b[0mself\u001b[0m\u001b[0;34m.\u001b[0m\u001b[0mget_indexer\u001b[0m\u001b[0;34m(\u001b[0m\u001b[0;34m[\u001b[0m\u001b[0mkey\u001b[0m\u001b[0;34m]\u001b[0m\u001b[0;34m,\u001b[0m \u001b[0mmethod\u001b[0m\u001b[0;34m=\u001b[0m\u001b[0mmethod\u001b[0m\u001b[0;34m,\u001b[0m \u001b[0mtolerance\u001b[0m\u001b[0;34m=\u001b[0m\u001b[0mtolerance\u001b[0m\u001b[0;34m)\u001b[0m\u001b[0;34m\u001b[0m\u001b[0;34m\u001b[0m\u001b[0m\n",
      "\u001b[0;32mpandas/_libs/index.pyx\u001b[0m in \u001b[0;36mpandas._libs.index.IndexEngine.get_loc\u001b[0;34m()\u001b[0m\n",
      "\u001b[0;32mpandas/_libs/index.pyx\u001b[0m in \u001b[0;36mpandas._libs.index.IndexEngine.get_loc\u001b[0;34m()\u001b[0m\n",
      "\u001b[0;32mpandas/_libs/hashtable_class_helper.pxi\u001b[0m in \u001b[0;36mpandas._libs.hashtable.PyObjectHashTable.get_item\u001b[0;34m()\u001b[0m\n",
      "\u001b[0;32mpandas/_libs/hashtable_class_helper.pxi\u001b[0m in \u001b[0;36mpandas._libs.hashtable.PyObjectHashTable.get_item\u001b[0;34m()\u001b[0m\n",
      "\u001b[0;31mKeyError\u001b[0m: 'chapter_code'"
     ]
    }
   ],
   "source": [
    "df_test = pd.read_csv('./full_data_schema.csv')\n",
    "df_t = df_test.groupby(['chapter_code', 'block_code']).agg({'worksheet_target_accuracy':'mean'})\n",
    "np.isnan(df_agg['avg_cuescore'])"
   ]
  },
  {
   "cell_type": "code",
   "execution_count": 14,
   "metadata": {},
   "outputs": [],
   "source": [
    "def get_student_data(student_list):\n",
    "\t'''\n",
    "\tGets Data of Students Enrolled under the Cue_User db. \n",
    "\t'''\n",
    "\tconn_auth = cuedb.get_cuemath_auth_connection()\n",
    "\tcur_auth = conn_auth.cursor()\n",
    "\t# Get User from cue_user table. Check email ID; Return True and False\n",
    "\tcols = ['id', 'created_on', 'updated_on', 'email', 'phone', 'first_name', 'last_name', 'gender']\n",
    "\tsql_student_query = \"SELECT \"+\", \".join(cols)+\" FROM CUE_USER WHERE id=ANY(%s::uuid[]);\"\n",
    "\tcur_auth.execute(sql_student_query, (student_list,))\n",
    "\tstudent_dat = pd.DataFrame(cur_auth.fetchall(), columns = cols)\n",
    "\tcur_auth.close()\n",
    "\tconn_auth.close()\n",
    "\t#if(student_dat.shape[0]==0):\n",
    "\t#\traise Exception(\"No Students in DB\")\n",
    "\t#else:\n",
    "\treturn(student_dat)\n"
   ]
  },
  {
   "cell_type": "code",
   "execution_count": 25,
   "metadata": {},
   "outputs": [
    {
     "name": "stdout",
     "output_type": "stream",
     "text": [
      "anuradda25.training@cuemath.com\n",
      "akshatajoshi.cuemath.training@cuemath.com\n",
      "lakshmi.july1990.training@cuemath.com\n",
      "nisha1302.training@cuemath.com\n",
      "kjsaradha.training@cuemath.com\n",
      "timci.goyal1.training@cuemath.com\n",
      "info.ruchiacademy.training@cuemath.com\n",
      "er.priyamaheshwari89.training@cuemath.com\n",
      "ruchikaprerna.training@cuemath.com\n",
      "anju_k2012.training@cuemath.com\n",
      "shwetam.training@cuemath.com\n",
      "shwetu.bahuguna.training@cuemath.com\n",
      "varsha.muragod.training@cuemath.com\n",
      "nandini.92rmurthy.training@cuemath.com\n",
      "sangeethasrobin.training@cuemath.com\n",
      "sarchana11.training@cuemath.com\n",
      "jiviamu.training@cuemath.com\n",
      "umanallan.training@cuemath.com\n",
      "jpokharna87.training@cuemath.com\n",
      "nitishasahai.training@cuemath.com\n",
      "savadattiroopa.training@cuemath.com\n",
      "ctp.shweta.sood.training@cuemath.com\n",
      "arshiyasltn.training@cuemath.com\n",
      "nishi.foru4.training@cuemath.com\n",
      "lavashenoy.training@cuemath.com\n",
      "chandamaheshwari.training@cuemath.com\n",
      "cssujatharamesh.training@cuemath.com\n"
     ]
    },
    {
     "ename": "AttributeError",
     "evalue": "'NoneType' object has no attribute 'find'",
     "output_type": "error",
     "traceback": [
      "\u001b[0;31m---------------------------------------------------------------------------\u001b[0m",
      "\u001b[0;31mAttributeError\u001b[0m                            Traceback (most recent call last)",
      "\u001b[0;32m<ipython-input-25-757e963da9d2>\u001b[0m in \u001b[0;36m<module>\u001b[0;34m\u001b[0m\n\u001b[1;32m      4\u001b[0m \u001b[0mdf_students\u001b[0m \u001b[0;34m=\u001b[0m \u001b[0mget_student_data\u001b[0m\u001b[0;34m(\u001b[0m\u001b[0mstudent_list\u001b[0m\u001b[0;34m)\u001b[0m\u001b[0;34m\u001b[0m\u001b[0;34m\u001b[0m\u001b[0m\n\u001b[1;32m      5\u001b[0m \u001b[0;32mfor\u001b[0m \u001b[0midx\u001b[0m\u001b[0;34m,\u001b[0m \u001b[0mrow\u001b[0m \u001b[0;32min\u001b[0m \u001b[0mdf_students\u001b[0m\u001b[0;34m.\u001b[0m\u001b[0miterrows\u001b[0m\u001b[0;34m(\u001b[0m\u001b[0;34m)\u001b[0m\u001b[0;34m:\u001b[0m\u001b[0;34m\u001b[0m\u001b[0;34m\u001b[0m\u001b[0m\n\u001b[0;32m----> 6\u001b[0;31m     \u001b[0;32mif\u001b[0m\u001b[0;34m(\u001b[0m\u001b[0mrow\u001b[0m\u001b[0;34m[\u001b[0m\u001b[0;34m'email'\u001b[0m\u001b[0;34m]\u001b[0m\u001b[0;34m.\u001b[0m\u001b[0mfind\u001b[0m\u001b[0;34m(\u001b[0m\u001b[0;34m\".training@cuemath.com\"\u001b[0m\u001b[0;34m)\u001b[0m\u001b[0;34m!=\u001b[0m\u001b[0;34m-\u001b[0m\u001b[0;36m1\u001b[0m\u001b[0;34m)\u001b[0m\u001b[0;34m:\u001b[0m\u001b[0;34m\u001b[0m\u001b[0;34m\u001b[0m\u001b[0m\n\u001b[0m\u001b[1;32m      7\u001b[0m        \u001b[0mprint\u001b[0m\u001b[0;34m(\u001b[0m\u001b[0mrow\u001b[0m\u001b[0;34m[\u001b[0m\u001b[0;34m'email'\u001b[0m\u001b[0;34m]\u001b[0m\u001b[0;34m)\u001b[0m\u001b[0;34m\u001b[0m\u001b[0;34m\u001b[0m\u001b[0m\n",
      "\u001b[0;31mAttributeError\u001b[0m: 'NoneType' object has no attribute 'find'"
     ]
    }
   ],
   "source": [
    "from update_db_script import *\n",
    "df_student_program = get_student_program_data()\n",
    "student_list = list(set(df_student_program['student_id']))\n",
    "df_students = get_student_data(student_list)\n",
    "for idx, row in df_students.iterrows():\n",
    "    if(row['email'].find(\".training@cuemath.com\")!=-1):\n",
    "       print(row['email'])"
   ]
  },
  {
   "cell_type": "code",
   "execution_count": 308,
   "metadata": {},
   "outputs": [
    {
     "data": {
      "text/plain": [
       "'file:///Users/nadeeshgarg/Documents/Learnosity_Data_Extraction/scripts/temp-plot.html'"
      ]
     },
     "execution_count": 308,
     "metadata": {},
     "output_type": "execute_result"
    }
   ],
   "source": [
    "import plotly\n",
    "import plotly.plotly as py\n",
    "import plotly.graph_objs as go\n",
    "import numpy as np\n",
    "x_data = ['Carmelo Anthony', 'Dwyane Wade',\n",
    "          'Deron Williams', 'Brook Lopez',\n",
    "          'Damian Lillard', 'David West',]\n",
    "\n",
    "y0 = np.random.randn(20)-1\n",
    "y1 = np.random.randn(50)+1\n",
    "y2 = np.random.randn(50)\n",
    "y3 = np.random.randn(30)+2\n",
    "y4 = np.random.randn(50)-2\n",
    "y5 = np.random.randn(10)+3\n",
    "\n",
    "y_data = [y0,y1,y2,y3,y4,y5]\n",
    "\n",
    "colors = ['rgba(93, 164, 214, 0.5)', 'rgba(255, 144, 14, 0.5)', 'rgba(44, 160, 101, 0.5)', 'rgba(255, 65, 54, 0.5)', 'rgba(207, 114, 255, 0.5)', 'rgba(127, 96, 0, 0.5)']\n",
    "\n",
    "traces = []\n",
    "\n",
    "for xd, yd, cls in zip(x_data, y_data, colors):\n",
    "        traces.append(go.Box(\n",
    "            y=yd,\n",
    "            name=xd,\n",
    "            boxpoints='all',\n",
    "            jitter=0.5,\n",
    "            whiskerwidth=0.2,\n",
    "            fillcolor=cls,\n",
    "            marker=dict(\n",
    "                size=2,\n",
    "            ),\n",
    "            line=dict(width=1),\n",
    "        ))\n",
    "\n",
    "layout = go.Layout(\n",
    "    title='Points Scored by the Top 9 Scoring NBA Players in 2012',\n",
    "    yaxis=dict(\n",
    "        autorange=True,\n",
    "        showgrid=True,\n",
    "        zeroline=True,\n",
    "        dtick=5,\n",
    "        gridcolor='rgb(255, 255, 255)',\n",
    "        gridwidth=1,\n",
    "        zerolinecolor='rgb(255, 255, 255)',\n",
    "        zerolinewidth=2,\n",
    "    ),\n",
    "    margin=dict(\n",
    "        l=40,\n",
    "        r=30,\n",
    "        b=80,\n",
    "        t=100,\n",
    "    ),\n",
    "    paper_bgcolor='rgb(243, 243, 243)',\n",
    "    plot_bgcolor='rgb(243, 243, 243)',\n",
    "    showlegend=False\n",
    ")\n",
    "\n",
    "fig = go.Figure(data=traces, layout=layout)\n",
    "plotly.offline.plot(fig)\n"
   ]
  }
 ],
 "metadata": {
  "kernelspec": {
   "display_name": "Python 3",
   "language": "python",
   "name": "python3"
  },
  "language_info": {
   "codemirror_mode": {
    "name": "ipython",
    "version": 3
   },
   "file_extension": ".py",
   "mimetype": "text/x-python",
   "name": "python",
   "nbconvert_exporter": "python",
   "pygments_lexer": "ipython3",
   "version": "3.7.1"
  }
 },
 "nbformat": 4,
 "nbformat_minor": 2
}
